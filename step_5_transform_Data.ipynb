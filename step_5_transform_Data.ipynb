{
 "cells": [
  {
   "cell_type": "markdown",
   "metadata": {},
   "source": [
    "### SELECT FIRST\n",
    "select kernal env \n",
    "    EXAMPLE : env(Python 3.12.2)\n",
    "\n",
    "###### NOTE : PLEASE DON'T SELECT GLOBAL ENV\n"
   ]
  },
  {
   "cell_type": "code",
   "execution_count": 4,
   "metadata": {},
   "outputs": [],
   "source": [
    "import pandas as pd\n",
    "import os\n",
    "import numpy as np\n",
    "import re"
   ]
  },
  {
   "cell_type": "code",
   "execution_count": 5,
   "metadata": {},
   "outputs": [],
   "source": [
    "df = pd.read_csv('data_step_4_scrap_merged/scrap_df.csv')"
   ]
  },
  {
   "cell_type": "code",
   "execution_count": 6,
   "metadata": {},
   "outputs": [],
   "source": [
    "df = df.rename(columns={\n",
    "                \"Document Number\":\"doc_number\",\n",
    "                \"Status\":\"status\",\n",
    "                \"Case Number\":\"case_number\",\n",
    "                \"Name of Court\":\"court_name\",\n",
    "                \"File Date\":\"file_date\",\n",
    "                \"Date of Entry\":\"entry_date\",\n",
    "                \"Expiration Date\":\"expiry_date\",\n",
    "                \"Amount Due\":\"amount_due\",\n",
    "                \"Interest Rate\":\"interest_rate\",\n",
    "                \"creditors\":\"creditors\",\n",
    "                \"debtors\":\"debtors\",\n",
    "                \"Original Document\":\"original_doc\",\n",
    "                \"Amount Remaining\":\"amount_remaining\",\n",
    "                \"url\":\"url\"\n",
    "                })"
   ]
  },
  {
   "cell_type": "code",
   "execution_count": 7,
   "metadata": {},
   "outputs": [],
   "source": [
    "\n",
    "df['entry_date_format'] = df['entry_date']"
   ]
  },
  {
   "cell_type": "code",
   "execution_count": 8,
   "metadata": {},
   "outputs": [],
   "source": [
    "df['Year'] = df['entry_date_format'].str.split('/').str[-1]\n",
    "df['Month'] = df['entry_date_format'].str.split('/').str[0]\n",
    "df['Day'] = df['entry_date_format'].str.split('/').str[1]"
   ]
  },
  {
   "cell_type": "code",
   "execution_count": 9,
   "metadata": {},
   "outputs": [],
   "source": [
    "df = df[(df['Year']>='2001') & (df['Month']>='01') & (df['Day']>='01')]"
   ]
  },
  {
   "cell_type": "code",
   "execution_count": 10,
   "metadata": {},
   "outputs": [],
   "source": [
    "df.drop(columns=['Year','Month','Day'], inplace=True)"
   ]
  },
  {
   "cell_type": "code",
   "execution_count": 11,
   "metadata": {},
   "outputs": [],
   "source": [
    "df['creditor_first_line'] = df['creditors'].str.split('\\n').str[0]\n",
    "df['creditor_last_line'] = df['creditors'].str.split('\\n').str[-1]\n",
    "df['creditor_address'] = df['creditors'].str.replace(',','').str.split('\\n').str[1:-1].apply(lambda x: str(x).replace('[','').replace(']','').replace('\\'', ''))\n",
    "df['is_creditor_company'] = df['creditor_first_line'].str.contains(\"INC|HOUR|DIV|ENTERPRISE|ACADEMY|0|1|2|3|4|5|6|7|8|9|:|5TH|RENT|OWNRS|BIG|MIAMI|SHOE|REPEAT|EVOLUTION|FLORIDA|ADVERTISING|PLACE|SCHOOL|MOBILITY|LAND|STATE|SUPER|VENTURES|SECURITY|CYBER|NATIONAL|COLLECTORS|RESOLUTION|COTTAGE|COUNTRY|GAINESVILLE|REVENUE|PROPERTIES|INDUSTRIAL|COPORATION|INTEREST|CITY|COMMUNICATIONS|COMPAN|COUNTY|DIVISION|HOSPITAL|L.L.C.|SUPPLY|GROUP|TECHNOLOGIES|ASSOCIATES|LIMITED|INSURANCE|L.P|JOINT|DESIGN|SRVCS|BANK|NORTH|INVEST|LTD|CENTER|TRUST|POPULAR|CLINIC|CREDIT|COMPANY|TELEPHONE|D.M.D.|UNIT|LLC|INDUSTRIES|C/O|CORPORATION|FINANCIAL|CREDIT|BANK|EMPLOYERS|FEDERAL|JEWELRY|AVENUE|ELECTRICAL|DISTRUBUTORS|UNIVERSITY|INNOVATIONS|SERVICE|SERVICES|CORP|CREATION|CERTIFIED|REPAIR|AUTO|TRANPORTATION|&|CO.|STAFFING|FIRM|TRADE|ENTERTAINMENT|TECHNOLOGY|FINANCE|CLEANING|SOLUTIONS|CASINO|HOLDINGS|HEALTH|SYSTEMS|L L C|FOODS|OIL|CLUB|UNIFUND|OFFICE| CO |CHANGE|PROJECT|ZOOLOGICAL|SPORTS|SHOP|BODY|BOATS|ABOUT|WIRELESS|WIRE|BEGINNING\")"
   ]
  },
  {
   "cell_type": "code",
   "execution_count": 12,
   "metadata": {},
   "outputs": [
    {
     "name": "stderr",
     "output_type": "stream",
     "text": [
      "<>:17: SyntaxWarning: invalid escape sequence '\\d'\n",
      "<>:20: SyntaxWarning: invalid escape sequence '\\d'\n",
      "<>:17: SyntaxWarning: invalid escape sequence '\\d'\n",
      "<>:20: SyntaxWarning: invalid escape sequence '\\d'\n",
      "C:\\Users\\PIPLUSPI\\AppData\\Local\\Temp\\ipykernel_2444\\2026663877.py:17: SyntaxWarning: invalid escape sequence '\\d'\n",
      "  df['creditor_last_line'].str.split(',').str[1].str.replace('.',' ').str.split(' ').str[-1].str.extract(pat='(\\d+)', expand=False).str[0:6],\n",
      "C:\\Users\\PIPLUSPI\\AppData\\Local\\Temp\\ipykernel_2444\\2026663877.py:20: SyntaxWarning: invalid escape sequence '\\d'\n",
      "  df['creditor_last_line'].str.split(' ').str[-1].str.extract(pat='(\\d+)', expand=False).str[0:6],\n"
     ]
    }
   ],
   "source": [
    "df['creditor_company_name'] = np.where(df['is_creditor_company']==True,df['creditor_first_line'],'')\n",
    "df['creditor_name'] = np.where(df['is_creditor_company']==False,df['creditor_first_line'].str.split(',').str[0],'')\n",
    "df['creditor_city'] = np.where(\n",
    "                            df['creditor_last_line'].str.contains(','),\n",
    "                            df['creditor_last_line'].str.split(',').str[0],\n",
    "                            np.where(\n",
    "                                df['creditor_last_line'].str.split(' ').str.len() > 2,\n",
    "                                df['creditor_last_line'].str.split(' ').str[0:-2].apply(lambda x: str(x).replace('[','').replace(']','').replace('\\'', '')).str.replace(',',' ').str.strip(),\n",
    "                                df['creditor_last_line'].str.split(' ').str[0]\n",
    "                                )\n",
    "                            )\n",
    "\n",
    "\n",
    "df['creditor_zip'] = np.where(\n",
    "                            df['creditor_last_line'].str.contains(','),\n",
    "                           \n",
    "                            df['creditor_last_line'].str.split(',').str[1].str.replace('.',' ').str.split(' ').str[-1].str.extract(pat='(\\d+)', expand=False).str[0:6],\n",
    "                            np.where(\n",
    "                                df['creditor_last_line'].str.split(' ').str.len() > 2,\n",
    "                                df['creditor_last_line'].str.split(' ').str[-1].str.extract(pat='(\\d+)', expand=False).str[0:6],\n",
    "                                ''\n",
    "                                )\n",
    "                            )\n",
    "\n",
    "df['creditor_state'] = np.where(\n",
    "                            df['creditor_last_line'].str.contains(','),\n",
    "                            df['creditor_last_line'].str.split(',').str[-1].str.replace('.',' ').str.strip().str.split(' ').str[0],\n",
    "                            np.where(\n",
    "                                df['creditor_last_line'].str.split(' ').str.len() > 2,\n",
    "                                df['creditor_last_line'].str.split(' ').str[-2],\n",
    "                                df['creditor_last_line'].str.split(' ').str[-1].str.extract(pat='([a-z]+)', expand=False).str[0:2]\n",
    "                                \n",
    "                                )\n",
    "                            )"
   ]
  },
  {
   "cell_type": "code",
   "execution_count": 13,
   "metadata": {},
   "outputs": [],
   "source": [
    "df['creditor_fname'] = df['creditor_name'].str.split(' ').str[0]\n",
    "df['creditor_lname'] = df['creditor_name'].str.split(' ').str[-1]\n",
    "df['creditor_mname'] = np.where(df['creditor_name'].str.len()>2,\n",
    "                               df['creditor_name'].str.split(' ').str[1:-1].apply(lambda x: str(x).replace('[','').replace(']','').replace('\\'', '')).str.replace(',',' ').str.strip()\n",
    "                               ,'')\n",
    "df['creditor_full_name'] = df['creditor_name'] \n"
   ]
  },
  {
   "cell_type": "code",
   "execution_count": 14,
   "metadata": {},
   "outputs": [],
   "source": [
    "df['debtors'] = df['debtors'].str.split('\\n \\n')\n",
    "df = df.explode('debtors')"
   ]
  },
  {
   "cell_type": "code",
   "execution_count": 15,
   "metadata": {},
   "outputs": [],
   "source": [
    "df['debtors_arrays'] = df['debtors'].str.replace(',','|').str.split('\\n')\n",
    "df['debtors_arrays_count'] = df['debtors_arrays'].str.len()\n",
    "\n",
    "df['debtors_line_number_FEI_EIN'] = np.where(\n",
    "    df['debtors_arrays'].str[-1].str.contains('FEI/EIN'),\n",
    "    df['debtors_arrays_count'],\n",
    "    0\n",
    ")\n",
    "df['debtors_line_number_document'] = np.where(\n",
    "    df['debtors_arrays'].str[-1].str.contains('Document Number'),\n",
    "    df['debtors_arrays_count'],\n",
    "    np.where(\n",
    "        df['debtors_arrays'].str[-2].str.contains('Document Number'),\n",
    "        df['debtors_arrays_count']-1,\n",
    "        0\n",
    "    )\n",
    ")\n",
    "\n",
    "df['debtors_full_name'] = df['debtors'].str.split('\\n').str[0]\n",
    "\n",
    "df['debtors_address_last_line_number'] = np.where(\n",
    "                        df['debtors_line_number_document']>0,\n",
    "                        df['debtors_line_number_document']-1,\n",
    "                        np.where(\n",
    "                            df['debtors_line_number_FEI_EIN']>0,\n",
    "                                df['debtors_line_number_FEI_EIN']-1,\n",
    "                                df['debtors_arrays_count']\n",
    "                            )\n",
    "                    ).astype(np.int32)\n",
    "\n",
    "def getDebAddress(last_line,deb_lines):\n",
    "    return deb_lines[1:last_line]\n",
    "df['debtors_address_array'] = df.apply(lambda x:getDebAddress(x['debtors_address_last_line_number'],x['debtors_arrays']),axis=1)"
   ]
  },
  {
   "cell_type": "code",
   "execution_count": 16,
   "metadata": {},
   "outputs": [],
   "source": [
    "def getDebDocument(address_line,deb_lines):\n",
    "    if address_line > 0:\n",
    "        return deb_lines[address_line-1]\n",
    "    else:\n",
    "        return ''\n",
    "\n",
    "df['debtors_document_number'] = df.apply(lambda x:getDebDocument(x['debtors_line_number_document'],x['debtors_arrays']),axis=1)\n"
   ]
  },
  {
   "cell_type": "code",
   "execution_count": 17,
   "metadata": {},
   "outputs": [],
   "source": [
    "def getDebFEI_EIN(address_line,deb_lines):\n",
    "    if address_line > 0:\n",
    "        return deb_lines[address_line-1]\n",
    "    else:\n",
    "        return ''\n",
    "\n",
    "df['debtors_FEI_EIN_number'] = df.apply(lambda x:getDebFEI_EIN(x['debtors_line_number_FEI_EIN'],x['debtors_arrays']),axis=1)"
   ]
  },
  {
   "cell_type": "code",
   "execution_count": 18,
   "metadata": {},
   "outputs": [],
   "source": [
    "df['is_debtor_company'] = df['debtors_full_name'].str.contains(\"INC|HOUR|DIV|ENTERPRISE|ACADEMY|0|1|2|3|4|5|6|7|8|9|:|5TH|RENT|OWNRS|BIG|MIAMI|SHOE|REPEAT|EVOLUTION|FLORIDA|ADVERTISING|PLACE|SCHOOL|MOBILITY|LAND|STATE|SUPER|VENTURES|SECURITY|CYBER|NATIONAL|COLLECTORS|RESOLUTION|COTTAGE|COUNTRY|GAINESVILLE|REVENUE|PROPERTIES|INDUSTRIAL|COPORATION|INTEREST|CITY|COMMUNICATIONS|COMPAN|COUNTY|DIVISION|HOSPITAL|L.L.C.|SUPPLY|GROUP|TECHNOLOGIES|ASSOCIATES|LIMITED|INSURANCE|L.P|JOINT|DESIGN|SRVCS|BANK|NORTH|INVEST|LTD|CENTER|TRUST|POPULAR|CLINIC|CREDIT|COMPANY|TELEPHONE|D.M.D.|UNIT|LLC|INDUSTRIES|C/O|CORPORATION|FINANCIAL|CREDIT|BANK|EMPLOYERS|FEDERAL|JEWELRY|AVENUE|ELECTRICAL|DISTRUBUTORS|UNIVERSITY|INNOVATIONS|SERVICE|SERVICES|CORP|CREATION|CERTIFIED|REPAIR|AUTO|TRANPORTATION|&|CO.|STAFFING|FIRM|TRADE|ENTERTAINMENT|TECHNOLOGY|FINANCE|CLEANING|SOLUTIONS|CASINO|HOLDINGS|HEALTH|SYSTEMS|L L C|FOODS|OIL|CLUB|UNIFUND|OFFICE| CO |CHANGE|PROJECT|ZOOLOGICAL|SPORTS|SHOP|BODY|BOATS|ABOUT|WIRELESS|WIRE|BEGINNING\")\n",
    "df['debtors_company_name'] = np.where(df['is_debtor_company']==True,df['debtors_full_name'],'')\n",
    "df['debtors_last_name'] = np.where(df['is_debtor_company']==False,df['debtors_full_name'].str.split(',').str[0],'')\n",
    "df['debtors_first_name'] = np.where(df['is_debtor_company']==False,\n",
    "                                    df['debtors_full_name'].str.split(',').str[-1].str.strip().str.rsplit(' ').str[0],\n",
    "                                    '')\n",
    "df['debtors_middle_name'] = np.where(df['is_debtor_company']==False,\n",
    "                                    df['debtors_full_name'].str.split(',').str[-1].str.strip().str.rsplit(' ').str[1],\n",
    "                                    '')\n",
    "# df['debtors_full_name'] = df['debtors_first_name']&','&df['debtors_middle_name']&','&df['debtors_last_name']\n",
    "\n"
   ]
  },
  {
   "cell_type": "code",
   "execution_count": 19,
   "metadata": {},
   "outputs": [],
   "source": [
    "df['debtors_document_number'] = df['debtors_document_number'].str.split(':').str[-1].str.strip()\n",
    "df['debtors_FEI_EIN_number'] = df['debtors_FEI_EIN_number'].str.split(':').str[-1].str.strip()"
   ]
  },
  {
   "cell_type": "code",
   "execution_count": 20,
   "metadata": {},
   "outputs": [],
   "source": [
    "df['debtors_address'] = df['debtors_address_array'].str[0:-1].apply(lambda x: str(x).replace('[','').replace(']','').replace('\\'', '')).str.replace(',',' ').str.strip().str.replace('|',',')\n",
    "df['debtors_city'] = df['debtors_address_array'].str[-1].str.split('|').str[0]\n",
    "df['debtors_state'] = df['debtors_address_array'].str[-1].str.split('|').str[-1].str.strip().str.split(' ').str[0]\n",
    "df['debtors_zip'] = np.where(\n",
    "                        df['debtors_address_array'].str[-1].str.split('|').str[-1].str.strip().str.split(' ').str[-1].str.isnumeric()\n",
    "                        ,df['debtors_address_array'].str[-1].str.split('|').str[-1].str.strip().str.split(' ').str[-1],\n",
    "                        df['debtors_address_array'].str[-1].str.split('|').str[-1].str.strip().str.split(' ').str[-2])\n",
    "\n",
    "df['debtors_country'] = np.where(\n",
    "                        df['debtors_address_array'].str[-1].str.split('|').str[-1].str.strip().str.split(' ').str[-1].str.isnumeric()\n",
    "                        ,'',\n",
    "                        df['debtors_address_array'].str[-1].str.split('|').str[-1].str.strip().str.split(' ').str[2])\n",
    "\n",
    "df['debtors_appartment_number'] = np.where(\n",
    "                    df['debtors_address_array'].str[0].str.contains('SUITE|APT'),\n",
    "                    df['debtors_address_array'].str[0].str.split('SUITE').str[-1].str.split('APT.').str[-1].str.split(' APT').str[-1],\n",
    "                    ''\n",
    "    )\n"
   ]
  },
  {
   "cell_type": "code",
   "execution_count": 21,
   "metadata": {},
   "outputs": [],
   "source": [
    "df = df.drop(columns=['debtors_arrays','debtors_arrays_count','debtors_line_number_FEI_EIN','debtors_line_number_document','debtors_address_last_line_number','is_debtor_company',\n",
    "                    'debtors','debtors_address_array','creditor_first_line','creditor_last_line','is_creditor_company','creditor_name','creditors'\n",
    "])"
   ]
  },
  {
   "cell_type": "code",
   "execution_count": 22,
   "metadata": {},
   "outputs": [],
   "source": [
    "columns = [\n",
    "    'doc_number', 'status', 'case_number', 'court_name', 'file_date', 'entry_date', \n",
    "    'expiry_date', 'amount_due', 'interest_rate', 'original_doc', 'amount_remaining',\n",
    "    'creditor_company_name', 'creditor_full_name', 'creditor_fname', 'creditor_mname', \n",
    "    'creditor_lname', 'creditor_address', 'creditor_city', 'creditor_zip', 'creditor_state',\n",
    "    'debtors_company_name', 'debtors_full_name', 'debtors_first_name', 'debtors_middle_name', \n",
    "    'debtors_last_name', 'debtors_address', 'debtors_appartment_number', 'debtors_city', \n",
    "    'debtors_state', 'debtors_zip', 'debtors_country', 'debtors_document_number', \n",
    "    'debtors_FEI_EIN_number', 'url'\n",
    "]\n",
    "df = df[columns]"
   ]
  },
  {
   "cell_type": "code",
   "execution_count": 23,
   "metadata": {},
   "outputs": [],
   "source": [
    "with pd.ExcelWriter('sunbiz.xlsx', engine='xlsxwriter') as writer:\n",
    "    df.iloc[0:400000].to_excel(writer, sheet_name=f'sunbiz_1', index=False)\n",
    "    df.iloc[400001:800000].to_excel(writer, sheet_name=f'sunbiz_2', index=False)\n",
    "    df.iloc[800001:-1].to_excel(writer, sheet_name=f'sunbiz_3', index=False)"
   ]
  },
  {
   "cell_type": "markdown",
   "metadata": {},
   "source": [
    "##### FINAL RESULT WILL SAVED AS 'subiz.xlsx'"
   ]
  }
 ],
 "metadata": {
  "kernelspec": {
   "display_name": "Python 3",
   "language": "python",
   "name": "python3"
  },
  "language_info": {
   "codemirror_mode": {
    "name": "ipython",
    "version": 3
   },
   "file_extension": ".py",
   "mimetype": "text/x-python",
   "name": "python",
   "nbconvert_exporter": "python",
   "pygments_lexer": "ipython3",
   "version": "3.12.2"
  }
 },
 "nbformat": 4,
 "nbformat_minor": 2
}
